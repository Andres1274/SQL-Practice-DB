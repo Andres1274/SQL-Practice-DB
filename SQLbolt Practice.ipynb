{
  "nbformat": 4,
  "nbformat_minor": 0,
  "metadata": {
    "colab": {
      "provenance": [],
      "authorship_tag": "ABX9TyOJXLXFssET1JVykrraea+s",
      "include_colab_link": true
    },
    "kernelspec": {
      "name": "python3",
      "display_name": "Python 3"
    },
    "language_info": {
      "name": "python"
    }
  },
  "cells": [
    {
      "cell_type": "markdown",
      "metadata": {
        "id": "view-in-github",
        "colab_type": "text"
      },
      "source": [
        "<a href=\"https://colab.research.google.com/github/Andres1274/SQL-Practice-DB/blob/main/SQLbolt%20Practice.ipynb\" target=\"_parent\"><img src=\"https://colab.research.google.com/assets/colab-badge.svg\" alt=\"Open In Colab\"/></a>"
      ]
    },
    {
      "cell_type": "markdown",
      "source": [
        "#1. Installing SQL"
      ],
      "metadata": {
        "id": "0us9aLOmzeX4"
      }
    },
    {
      "cell_type": "code",
      "execution_count": 3,
      "metadata": {
        "colab": {
          "base_uri": "https://localhost:8080/"
        },
        "id": "xAPVhWFuzGoq",
        "outputId": "ba3ff1ce-361b-4f6b-fdea-58b5d299d96f"
      },
      "outputs": [
        {
          "output_type": "stream",
          "name": "stdout",
          "text": [
            "Requirement already satisfied: pymysql in /usr/local/lib/python3.10/dist-packages (1.1.1)\n"
          ]
        }
      ],
      "source": [
        "!pip install pymysql"
      ]
    },
    {
      "cell_type": "code",
      "source": [
        "%load_ext sql"
      ],
      "metadata": {
        "id": "GIeYHhCXza89"
      },
      "execution_count": 4,
      "outputs": []
    },
    {
      "cell_type": "markdown",
      "source": [
        "#2. Clone Git repository"
      ],
      "metadata": {
        "id": "aRkhHkbS0R7w"
      }
    },
    {
      "cell_type": "code",
      "source": [
        "!git clone https://github.com/Andres1274/SQL-Practice-DB"
      ],
      "metadata": {
        "colab": {
          "base_uri": "https://localhost:8080/"
        },
        "id": "hDSNanYy0RXH",
        "outputId": "d0fb1403-143d-4193-91b2-1897358d4fcb"
      },
      "execution_count": 11,
      "outputs": [
        {
          "output_type": "stream",
          "name": "stdout",
          "text": [
            "Cloning into 'SQL-Practice-DB'...\n",
            "remote: Enumerating objects: 11, done.\u001b[K\n",
            "remote: Counting objects:   9% (1/11)\u001b[K\rremote: Counting objects:  18% (2/11)\u001b[K\rremote: Counting objects:  27% (3/11)\u001b[K\rremote: Counting objects:  36% (4/11)\u001b[K\rremote: Counting objects:  45% (5/11)\u001b[K\rremote: Counting objects:  54% (6/11)\u001b[K\rremote: Counting objects:  63% (7/11)\u001b[K\rremote: Counting objects:  72% (8/11)\u001b[K\rremote: Counting objects:  81% (9/11)\u001b[K\rremote: Counting objects:  90% (10/11)\u001b[K\rremote: Counting objects: 100% (11/11)\u001b[K\rremote: Counting objects: 100% (11/11), done.\u001b[K\n",
            "remote: Compressing objects:  11% (1/9)\u001b[K\rremote: Compressing objects:  22% (2/9)\u001b[K\rremote: Compressing objects:  33% (3/9)\u001b[K\rremote: Compressing objects:  44% (4/9)\u001b[K\rremote: Compressing objects:  55% (5/9)\u001b[K\rremote: Compressing objects:  66% (6/9)\u001b[K\rremote: Compressing objects:  77% (7/9)\u001b[K\rremote: Compressing objects:  88% (8/9)\u001b[K\rremote: Compressing objects: 100% (9/9)\u001b[K\rremote: Compressing objects: 100% (9/9), done.\u001b[K\n",
            "Receiving objects:   9% (1/11)\rReceiving objects:  18% (2/11)\rReceiving objects:  27% (3/11)\rReceiving objects:  36% (4/11)\rReceiving objects:  45% (5/11)\rReceiving objects:  54% (6/11)\rReceiving objects:  63% (7/11)\rReceiving objects:  72% (8/11)\rremote: Total 11 (delta 1), reused 0 (delta 0), pack-reused 0 (from 0)\u001b[K\n",
            "Receiving objects:  81% (9/11)\rReceiving objects:  90% (10/11)\rReceiving objects: 100% (11/11)\rReceiving objects: 100% (11/11), 158.28 KiB | 15.83 MiB/s, done.\n",
            "Resolving deltas:   0% (0/1)\rResolving deltas: 100% (1/1)\rResolving deltas: 100% (1/1), done.\n"
          ]
        }
      ]
    },
    {
      "cell_type": "code",
      "source": [
        "%sql sqlite:////content/SQL-Practice-DB/call_center_database.db"
      ],
      "metadata": {
        "id": "f37W0Gbc_MRS"
      },
      "execution_count": 12,
      "outputs": []
    },
    {
      "cell_type": "code",
      "source": [
        "%sql sqlite:////content/SQL-Practice-DB/SQLbolt_Vehicles.db"
      ],
      "metadata": {
        "id": "P-YNrkxBAQKH"
      },
      "execution_count": 15,
      "outputs": []
    },
    {
      "cell_type": "code",
      "source": [
        "%%sql\n",
        "SELECT * FROM vehicles"
      ],
      "metadata": {
        "colab": {
          "base_uri": "https://localhost:8080/",
          "height": 251
        },
        "id": "SyI01Q9f_ZJ-",
        "outputId": "86584906-df4f-409f-aadf-5e5ff834d3f4"
      },
      "execution_count": 16,
      "outputs": [
        {
          "output_type": "stream",
          "name": "stdout",
          "text": [
            "   sqlite:////content/SQL-Practice-DB/SQLbolt\n",
            " * sqlite:////content/SQL-Practice-DB/SQLbolt_Vehicles.db\n",
            "   sqlite:////content/SQL-Practice-DB/call_center_database.db\n",
            "   sqlite:///SQL-Practice-DB/SQLBolt\n",
            "   sqlite:///SQLbolt\n",
            "Done.\n"
          ]
        },
        {
          "output_type": "execute_result",
          "data": {
            "text/plain": [
              "[(1, 'Ford Focus', 4, 4, 'Sedan'),\n",
              " (2, 'Tesla Roadster', 4, 2, 'Sports'),\n",
              " (3, 'Kawakasi Ninja', 2, 0, 'Motorcycle'),\n",
              " (4, 'McLaren Formula 1', 4, 0, 'Race'),\n",
              " (5, 'Tesla S', 4, 4, 'Sedan')]"
            ],
            "text/html": [
              "<table>\n",
              "    <thead>\n",
              "        <tr>\n",
              "            <th>Id</th>\n",
              "            <th>Make/Model</th>\n",
              "            <th># Wheels</th>\n",
              "            <th># Doors</th>\n",
              "            <th>Type</th>\n",
              "        </tr>\n",
              "    </thead>\n",
              "    <tbody>\n",
              "        <tr>\n",
              "            <td>1</td>\n",
              "            <td>Ford Focus</td>\n",
              "            <td>4</td>\n",
              "            <td>4</td>\n",
              "            <td>Sedan</td>\n",
              "        </tr>\n",
              "        <tr>\n",
              "            <td>2</td>\n",
              "            <td>Tesla Roadster</td>\n",
              "            <td>4</td>\n",
              "            <td>2</td>\n",
              "            <td>Sports</td>\n",
              "        </tr>\n",
              "        <tr>\n",
              "            <td>3</td>\n",
              "            <td>Kawakasi Ninja</td>\n",
              "            <td>2</td>\n",
              "            <td>0</td>\n",
              "            <td>Motorcycle</td>\n",
              "        </tr>\n",
              "        <tr>\n",
              "            <td>4</td>\n",
              "            <td>McLaren Formula 1</td>\n",
              "            <td>4</td>\n",
              "            <td>0</td>\n",
              "            <td>Race</td>\n",
              "        </tr>\n",
              "        <tr>\n",
              "            <td>5</td>\n",
              "            <td>Tesla S</td>\n",
              "            <td>4</td>\n",
              "            <td>4</td>\n",
              "            <td>Sedan</td>\n",
              "        </tr>\n",
              "    </tbody>\n",
              "</table>"
            ]
          },
          "metadata": {},
          "execution_count": 16
        }
      ]
    }
  ]
}